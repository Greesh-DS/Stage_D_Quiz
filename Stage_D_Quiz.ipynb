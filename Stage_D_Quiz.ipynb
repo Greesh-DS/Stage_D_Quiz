{
 "cells": [
  {
   "cell_type": "markdown",
   "id": "988b7a94",
   "metadata": {},
   "source": [
    "# Stage D Quiz:"
   ]
  },
  {
   "cell_type": "markdown",
   "id": "d754a982",
   "metadata": {},
   "source": [
    "Q1. The following are examples of Hyperparameters employed in Neural networks to improve the performance of a model. Choose the option(s) not appropriate\n",
    "\n",
    "    Dropout\n",
    "\n",
    "    Sigmoid\n",
    "\n",
    "    Momentum\n",
    "\n",
    "    Hidden layers\n",
    "Ans: Dropout and Hidden layers"
   ]
  },
  {
   "cell_type": "markdown",
   "id": "48bc6146",
   "metadata": {},
   "source": [
    "Q2. Which of the neural network architectures in the options below perform weight sharing?\n",
    "\n",
    "    Fully Connected Neural Network and Convolutional Neural Network\n",
    "\n",
    "    Recurrent Neural Network and Convolutional Neural Network\n",
    "\n",
    "    Fully Connected Neural Network\n",
    "\n",
    "    Recurrent Neural Network \n",
    "\n",
    "    Convolutional Neural Network\n",
    "\n",
    "Ans: Convolutional Neural Network"
   ]
  },
  {
   "cell_type": "markdown",
   "id": "f9c5c7da",
   "metadata": {},
   "source": [
    "Q3. Which of the following techniques in a neural network is used to prevent Overfitting?\n",
    "\n",
    "    A and C\n",
    "\n",
    "    All of the above\n",
    "\n",
    "    Regularization\n",
    "\n",
    "    Dropout\n",
    "\n",
    "    Batch Normalization\n",
    "\n",
    "Ans: Regularization and Dropout"
   ]
  },
  {
   "cell_type": "markdown",
   "id": "03e88616",
   "metadata": {},
   "source": [
    "Q4. Which of the following options is TRUE about Perceptrons?\n",
    "\n",
    "    All of the above\n",
    "\n",
    "    It is an artificial neuron and it is the fundamental unit of neural network\n",
    "\n",
    "    A neural network is a composition of perceptrons connected in different ways\n",
    "\n",
    "    It is also called a single-layer neural network\n",
    "\n",
    "Ans: It is also called a single-layer neural network"
   ]
  },
  {
   "cell_type": "markdown",
   "id": "9fc91ecb",
   "metadata": {},
   "source": [
    "Q5. Inductive Learning is based on the knowledge that if something happens a lot it is likely to be generally ______\n",
    "\n",
    "Ans: True"
   ]
  },
  {
   "cell_type": "markdown",
   "id": "7779d868",
   "metadata": {},
   "source": [
    "Q6. Which of the following is the structure of the input to an artificial neuron?\n",
    "\n",
    "    Weighted sum of inputs + bias\n",
    "\n",
    "    Weighted sum of bias + inputs\n",
    "\n",
    "    Sum of inputs + bias \n",
    "\n",
    "    Sum of bias + inputs\n",
    "\n",
    "Ans: Weighted sum of inputs + bias"
   ]
  },
  {
   "cell_type": "markdown",
   "id": "53d8c384",
   "metadata": {},
   "source": [
    "Q7. Which of the following is FALSE about Deep Learning and Machine Learning algorithm?\n",
    "\n",
    "    Deep Learning algorithms are well suited for unstructured data\n",
    "\n",
    "    Deep Learning algorithms work efficiently on a high amount of data\n",
    "\n",
    "    Feature Extraction needs to be done manually in both ML and DL algorithm\n",
    "\n",
    "    Deep Learning algorithms require high computational Power\n",
    "\n",
    "Ans: Deep Learning algorithms work efficiently on a high amount of data"
   ]
  },
  {
   "cell_type": "markdown",
   "id": "65be1e06",
   "metadata": {},
   "source": [
    "Q8. Which of the following is a type of Neural Network?\n",
    "\n",
    "    Autoencoders\n",
    "\n",
    "    Capsule Neural Networks\n",
    "\n",
    "    Convolutional Neural Network (CNN)\n",
    "\n",
    "    All of the above\n",
    "\n",
    "Ans: All of the above"
   ]
  },
  {
   "cell_type": "markdown",
   "id": "87c46f74",
   "metadata": {},
   "source": [
    "Q9. What is the purpose of an activation function?\n",
    "\n",
    "Ans: To decide whether a neuron will fire or not"
   ]
  },
  {
   "cell_type": "markdown",
   "id": "4e5a3f90",
   "metadata": {},
   "source": [
    "Q10. What are the factors to consider when selecting the depth of a neural network?\n",
    "\n",
    "    1. Type of neural network ( e.g MLP, CNN, etc)\n",
    "    2. Input data\n",
    "    3. Computational power, i.e Hardware capabilities, and software capabilities\n",
    "    4. Learning Rate\n",
    "    5. The output function to map\n",
    "    \n",
    "Ans: 1,2,4,5"
   ]
  },
  {
   "cell_type": "markdown",
   "id": "1f236edc",
   "metadata": {},
   "source": [
    "Q11. Which of the following is true for Neural Networks?\n",
    "\n",
    "    I. Artificial neurons are Identical in operations to biological ones.\n",
    "    II. Neural networks can be simulated on a conventional computer . \n",
    "    III. The training time depends on the size of the network\n",
    "    \n",
    "Ans: II and III"
   ]
  },
  {
   "cell_type": "markdown",
   "id": "5ce925c7",
   "metadata": {},
   "source": [
    "Q12. What is back propagation?\n",
    "\n",
    "    It is another name given to the curvy function in perceptron\n",
    "\n",
    "    None of the above\n",
    "\n",
    "    It is the transmission of error back through the network to allow weights to be adjusted so that the network can learn\n",
    "\n",
    "    It is the transmission of error back through the network to adjust the inputs\n",
    "\n",
    "Ans: It is the transmission of error back through the network to allow weights to be adjusted so that the network can learn."
   ]
  },
  {
   "cell_type": "markdown",
   "id": "86e92dda",
   "metadata": {},
   "source": [
    "Q13. Which is the most direct application of neural networks?\n",
    "\n",
    "    Control applications\n",
    "\n",
    "    Vector quantization\n",
    "\n",
    "    Pattern classification\n",
    "\n",
    "    Pattern mapping\n",
    "\n",
    "Ans: Pattern classification"
   ]
  },
  {
   "cell_type": "markdown",
   "id": "81813054",
   "metadata": {},
   "source": [
    "Q14. What are the pros of neural networks over computers?\n",
    "\n",
    "    They have real-time high computational rates\n",
    "\n",
    "    They have the ability to learn by examples\n",
    "\n",
    "    They have more tolerance\n",
    "\n",
    "    All of the above\n",
    "    \n",
    "Ans: All of the above"
   ]
  },
  {
   "cell_type": "markdown",
   "id": "4f1c12a6",
   "metadata": {},
   "source": [
    "Q15. Which of the following is false?\n",
    "\n",
    "\n",
    "    Neural networks have high computational rates than conventional computers\n",
    "\n",
    "    Neural networks are artificial copies of the human brain\n",
    "\n",
    "    Neural networks learn by examples\n",
    "\n",
    "    None of the above\n",
    "\n",
    "Ans: None of the above"
   ]
  },
  {
   "cell_type": "markdown",
   "id": "41746b57",
   "metadata": {},
   "source": [
    "Q16. The fundamental unit of network is\n",
    "\n",
    "    Axon\n",
    "\n",
    "    Nucleus\n",
    "\n",
    "    Brain\n",
    "\n",
    "    Neuron\n",
    "\n",
    "Ans: Neuron"
   ]
  },
  {
   "cell_type": "markdown",
   "id": "6b2f0fad",
   "metadata": {},
   "source": [
    "Q17. What is the function of the Axon and Dendrite?\n",
    "\n",
    "    Both Collect signals\n",
    "\n",
    "    Both Transmit signals\n",
    "\n",
    "    Transmit and Collect signals\n",
    "\n",
    "    Collect and Transmit signals\n",
    "\n",
    "Ans: Transmit and Collect signals"
   ]
  },
  {
   "cell_type": "markdown",
   "id": "2b7f60c9",
   "metadata": {},
   "source": [
    "Q18. Which of the following do you understand is an example of active learning?\n",
    "    I. Automated Vehicles\n",
    "    II. Recommender Systems\n",
    "    III. Dust Cleaning Machine\n",
    "    \n",
    "I only\n",
    "\n",
    "II only\n",
    "\n",
    "III only\n",
    "\n",
    "All of the above\n",
    "\n",
    "None of the above\n",
    "    \n",
    "Ans: II only"
   ]
  },
  {
   "cell_type": "markdown",
   "id": "61ddc437",
   "metadata": {},
   "source": [
    "Q19. Which of the following is also referred to as explanatory learning?\n",
    "\n",
    "    Active learning\n",
    "\n",
    "    Reinforcement learning\n",
    "\n",
    "    Unsupervised learning\n",
    "\n",
    "    Supervised learning\n",
    "    \n",
    "Ans: Unsupervised learning"
   ]
  },
  {
   "cell_type": "markdown",
   "id": "26bf2046",
   "metadata": {},
   "source": [
    "Q20. How many types of learning do you know are available in machine learning?\n",
    "\n",
    "4\n",
    "\n",
    "1\n",
    "\n",
    "3\n",
    "\n",
    "2\n",
    "\n",
    "Ans: 4"
   ]
  }
 ],
 "metadata": {
  "kernelspec": {
   "display_name": "Python 3 (ipykernel)",
   "language": "python",
   "name": "python3"
  },
  "language_info": {
   "codemirror_mode": {
    "name": "ipython",
    "version": 3
   },
   "file_extension": ".py",
   "mimetype": "text/x-python",
   "name": "python",
   "nbconvert_exporter": "python",
   "pygments_lexer": "ipython3",
   "version": "3.9.13"
  }
 },
 "nbformat": 4,
 "nbformat_minor": 5
}
